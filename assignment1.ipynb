{
 "cells": [
  {
   "cell_type": "markdown",
   "metadata": {},
   "source": [
    "pizza"
   ]
  },
  {
   "cell_type": "code",
   "execution_count": 43,
   "metadata": {},
   "outputs": [
    {
     "name": "stdout",
     "output_type": "stream",
     "text": [
      "18 degree pizza is more profitable\n"
     ]
    }
   ],
   "source": [
    "pizza_1=18\n",
    "pizza_2=12\n",
    "radius1=pizza_1/2\n",
    "radius2=pizza_2/2\n",
    "area_1=3.14*(radius1*radius1)\n",
    "area_2=3.14*(radius2*radius2)\n",
    "totalArea_2=area_2*2\n",
    "if area_1 > totalArea_2:\n",
    "  print(\"18 degree pizza is more profitable\")\n",
    "else:\n",
    "  print(\"12 degree pizza is more profitable\")"
   ]
  },
  {
   "cell_type": "markdown",
   "metadata": {},
   "source": [
    "print \n",
    "Twinkle,twinkle,little star,\n",
    "\n",
    "                         How i wonder what you are!\n",
    "\n",
    "                                Up above the world so high,\n",
    "\n",
    "\n",
    "\n",
    "                                Like a diamond in the sky.\n",
    "\n",
    "                Twinkle,twinkle,little star,\n",
    "\n",
    "                         How i wonder what you are\n"
   ]
  },
  {
   "cell_type": "code",
   "execution_count": 44,
   "metadata": {},
   "outputs": [
    {
     "name": "stdout",
     "output_type": "stream",
     "text": [
      "                Twinkle,twinkle,little star,\n",
      "\n",
      "                         How i wonder what you are!\n",
      "\n",
      "                                Up above the world so high,\n",
      "\n",
      "\n",
      "\n",
      "                                Like a diamond in the sky.\n",
      "\n",
      "                Twinkle,twinkle,little star,\n",
      "\n",
      "                         How i wonder what you are\n",
      "\n",
      "\n",
      "\n",
      "\n"
     ]
    }
   ],
   "source": [
    "print ('''                Twinkle,twinkle,little star,\n",
    "\n",
    "                         How i wonder what you are!\n",
    "\n",
    "                                Up above the world so high,\n",
    "\n",
    "\n",
    "\n",
    "                                Like a diamond in the sky.\n",
    "\n",
    "                Twinkle,twinkle,little star,\n",
    "\n",
    "                         How i wonder what you are\n",
    "\n",
    "\n",
    "\n",
    "''')"
   ]
  },
  {
   "cell_type": "markdown",
   "metadata": {},
   "source": [
    "Radius of circle"
   ]
  },
  {
   "cell_type": "code",
   "execution_count": 47,
   "metadata": {},
   "outputs": [
    {
     "name": "stdout",
     "output_type": "stream",
     "text": [
      "113.03999999999999\n"
     ]
    }
   ],
   "source": [
    "pi=3.14\n",
    "\n",
    "r =float (input(\"enter radius\"))\n",
    "\n",
    "area=pi*r*r\n",
    "\n",
    "print(area)"
   ]
  }
 ],
 "metadata": {
  "kernelspec": {
   "display_name": "Python 3.10.7 64-bit (microsoft store)",
   "language": "python",
   "name": "python3"
  },
  "language_info": {
   "codemirror_mode": {
    "name": "ipython",
    "version": 3
   },
   "file_extension": ".py",
   "mimetype": "text/x-python",
   "name": "python",
   "nbconvert_exporter": "python",
   "pygments_lexer": "ipython3",
   "version": "3.10.7"
  },
  "orig_nbformat": 4,
  "vscode": {
   "interpreter": {
    "hash": "eb27ebc11b61f5d73d518ed40ecb8d787c96f0c6eac54653c8bb5bdbd45220cb"
   }
  }
 },
 "nbformat": 4,
 "nbformat_minor": 2
}
